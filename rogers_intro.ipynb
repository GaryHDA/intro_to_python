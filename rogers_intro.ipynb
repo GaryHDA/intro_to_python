{
 "cells": [
  {
   "cell_type": "markdown",
   "metadata": {},
   "source": [
    "### The intro notebook learn python\n",
    "\n",
    "#### use this to get started\n",
    "\n",
    "1)   create copies on your branch with your name in the file name\n",
    "\n",
    "2)   make sure to include the subject in the file name\n",
    "\n"
   ]
  },
  {
   "cell_type": "code",
   "execution_count": 1,
   "metadata": {},
   "outputs": [],
   "source": [
    "import numpy as np\n",
    "import json\n",
    "import requests"
   ]
  },
  {
   "cell_type": "code",
   "execution_count": 5,
   "metadata": {},
   "outputs": [],
   "source": [
    "# get some data using the request library\n",
    "# https://requests.readthedocs.io/en/master/\n",
    "\n",
    "survey_data = requests.get('https://mwshovel.pythonanywhere.com/api/surveys/survey-results/?location__country=CH&date=2018-01-01')\n",
    "beach_data = requests.get('https://mwshovel.pythonanywhere.com/api/list-of-beaches/swiss/')\n",
    "\n",
    "survey_data = survey_data.json()\n",
    "beach_data = beach_data.json()"
   ]
  }
 ],
 "metadata": {
  "kernelspec": {
   "display_name": "Python 3",
   "language": "python",
   "name": "python3"
  },
  "language_info": {
   "codemirror_mode": {
    "name": "ipython",
    "version": 3
   },
   "file_extension": ".py",
   "mimetype": "text/x-python",
   "name": "python",
   "nbconvert_exporter": "python",
   "pygments_lexer": "ipython3",
   "version": "3.8.2"
  }
 },
 "nbformat": 4,
 "nbformat_minor": 4
}
